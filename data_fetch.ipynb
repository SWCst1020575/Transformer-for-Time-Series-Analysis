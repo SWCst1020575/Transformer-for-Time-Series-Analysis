{
 "cells": [
  {
   "cell_type": "markdown",
   "metadata": {},
   "source": [
    "[參考](https://github.com/histockhero/youtube_code/blob/main/Part2_%E8%82%A1%E5%B8%82%E8%B3%87%E6%96%99%E4%B8%8B%E8%BC%89%EF%BC%86%E6%8A%80%E8%A1%93%E5%88%86%E6%9E%90/2.1%E8%82%A1%E5%B8%82%E8%B3%87%E6%96%99%E4%B8%8B%E8%BC%89/%E4%B8%8B%E8%BC%89%E6%AD%B7%E5%B9%B4%E5%8F%B0%E8%82%A1%E5%B8%82%E5%A0%B4%E6%88%90%E4%BA%A4%E8%B3%87%E8%A8%8A.ipynb)"
   ]
  },
  {
   "cell_type": "code",
   "execution_count": 1,
   "metadata": {},
   "outputs": [],
   "source": [
    "import requests\n",
    "from io import StringIO\n",
    "import pandas as pd\n",
    "import json\n",
    "import numpy as np\n",
    "from tqdm import tqdm\n",
    "import time"
   ]
  },
  {
   "cell_type": "code",
   "execution_count": 2,
   "metadata": {},
   "outputs": [],
   "source": [
    "def get_stock_close(date, stock_no):\n",
    "    url = f\"https://www.twse.com.tw/exchangeReport/STOCK_DAY?response=json&date={date}&stockNo={stock_no}\"\n",
    "    data = requests.get(url).json()\n",
    "    if \"data\" in data:\n",
    "        df = pd.DataFrame.from_dict(data[\"data\"])\n",
    "        df.columns = data['fields']\n",
    "        return df[\"收盤價\"].values\n",
    "    else:\n",
    "        return False"
   ]
  },
  {
   "cell_type": "code",
   "execution_count": 3,
   "metadata": {},
   "outputs": [],
   "source": [
    "def get_corporation(date):\n",
    "    url = f'https://www.twse.com.tw/rwd/zh/fund/T86?response=json&date={date}&selectType=ALL'\n",
    "    data = requests.get(url).json()\n",
    "    df = pd.DataFrame.from_dict(data[\"data\"])\n",
    "    df.columns = data['fields']\n",
    "    return df"
   ]
  },
  {
   "cell_type": "code",
   "execution_count": 5,
   "metadata": {},
   "outputs": [],
   "source": [
    "df = pd.read_csv(\"stock_price_history.csv\")\n",
    "stock_list = pd.read_csv(\"stock_list.csv\")"
   ]
  },
  {
   "cell_type": "code",
   "execution_count": null,
   "metadata": {},
   "outputs": [],
   "source": [
    "df.columns.astype(int).to_numpy()"
   ]
  },
  {
   "cell_type": "code",
   "execution_count": 23,
   "metadata": {},
   "outputs": [],
   "source": [
    "stock_list = np.setdiff1d(stock_list, df.columns.astype(int).to_numpy())"
   ]
  },
  {
   "cell_type": "code",
   "execution_count": 24,
   "metadata": {},
   "outputs": [
    {
     "data": {
      "text/plain": [
       "(83,)"
      ]
     },
     "execution_count": 24,
     "metadata": {},
     "output_type": "execute_result"
    }
   ],
   "source": [
    "stock_list.shape"
   ]
  },
  {
   "cell_type": "code",
   "execution_count": 25,
   "metadata": {},
   "outputs": [
    {
     "name": "stderr",
     "output_type": "stream",
     "text": [
      "100%|██████████| 176/176 [00:33<00:00,  5.18it/s]\n",
      "/tmp/ipykernel_540/3020429731.py:13: PerformanceWarning: DataFrame is highly fragmented.  This is usually the result of calling `frame.insert` many times, which has poor performance.  Consider joining all columns at once using pd.concat(axis=1) instead. To get a de-fragmented frame, use `newframe = frame.copy()`\n",
      "  df[f\"{stock}\"] = close_list\n",
      "100%|██████████| 176/176 [00:34<00:00,  5.06it/s]\n",
      "/tmp/ipykernel_540/3020429731.py:13: PerformanceWarning: DataFrame is highly fragmented.  This is usually the result of calling `frame.insert` many times, which has poor performance.  Consider joining all columns at once using pd.concat(axis=1) instead. To get a de-fragmented frame, use `newframe = frame.copy()`\n",
      "  df[f\"{stock}\"] = close_list\n",
      "100%|██████████| 176/176 [00:36<00:00,  4.88it/s]\n",
      "/tmp/ipykernel_540/3020429731.py:13: PerformanceWarning: DataFrame is highly fragmented.  This is usually the result of calling `frame.insert` many times, which has poor performance.  Consider joining all columns at once using pd.concat(axis=1) instead. To get a de-fragmented frame, use `newframe = frame.copy()`\n",
      "  df[f\"{stock}\"] = close_list\n",
      "100%|██████████| 176/176 [00:34<00:00,  5.17it/s]\n",
      "/tmp/ipykernel_540/3020429731.py:13: PerformanceWarning: DataFrame is highly fragmented.  This is usually the result of calling `frame.insert` many times, which has poor performance.  Consider joining all columns at once using pd.concat(axis=1) instead. To get a de-fragmented frame, use `newframe = frame.copy()`\n",
      "  df[f\"{stock}\"] = close_list\n",
      "100%|██████████| 176/176 [00:32<00:00,  5.40it/s]\n",
      "/tmp/ipykernel_540/3020429731.py:13: PerformanceWarning: DataFrame is highly fragmented.  This is usually the result of calling `frame.insert` many times, which has poor performance.  Consider joining all columns at once using pd.concat(axis=1) instead. To get a de-fragmented frame, use `newframe = frame.copy()`\n",
      "  df[f\"{stock}\"] = close_list\n",
      "100%|██████████| 176/176 [00:37<00:00,  4.72it/s]\n",
      "/tmp/ipykernel_540/3020429731.py:13: PerformanceWarning: DataFrame is highly fragmented.  This is usually the result of calling `frame.insert` many times, which has poor performance.  Consider joining all columns at once using pd.concat(axis=1) instead. To get a de-fragmented frame, use `newframe = frame.copy()`\n",
      "  df[f\"{stock}\"] = close_list\n",
      "100%|██████████| 176/176 [00:35<00:00,  4.91it/s]\n",
      "/tmp/ipykernel_540/3020429731.py:13: PerformanceWarning: DataFrame is highly fragmented.  This is usually the result of calling `frame.insert` many times, which has poor performance.  Consider joining all columns at once using pd.concat(axis=1) instead. To get a de-fragmented frame, use `newframe = frame.copy()`\n",
      "  df[f\"{stock}\"] = close_list\n",
      "100%|██████████| 176/176 [00:39<00:00,  4.42it/s]\n",
      "/tmp/ipykernel_540/3020429731.py:13: PerformanceWarning: DataFrame is highly fragmented.  This is usually the result of calling `frame.insert` many times, which has poor performance.  Consider joining all columns at once using pd.concat(axis=1) instead. To get a de-fragmented frame, use `newframe = frame.copy()`\n",
      "  df[f\"{stock}\"] = close_list\n",
      "100%|██████████| 176/176 [00:33<00:00,  5.30it/s]\n",
      "/tmp/ipykernel_540/3020429731.py:13: PerformanceWarning: DataFrame is highly fragmented.  This is usually the result of calling `frame.insert` many times, which has poor performance.  Consider joining all columns at once using pd.concat(axis=1) instead. To get a de-fragmented frame, use `newframe = frame.copy()`\n",
      "  df[f\"{stock}\"] = close_list\n",
      "100%|██████████| 176/176 [00:36<00:00,  4.78it/s]\n",
      "/tmp/ipykernel_540/3020429731.py:13: PerformanceWarning: DataFrame is highly fragmented.  This is usually the result of calling `frame.insert` many times, which has poor performance.  Consider joining all columns at once using pd.concat(axis=1) instead. To get a de-fragmented frame, use `newframe = frame.copy()`\n",
      "  df[f\"{stock}\"] = close_list\n",
      "100%|██████████| 176/176 [00:33<00:00,  5.25it/s]\n",
      "/tmp/ipykernel_540/3020429731.py:13: PerformanceWarning: DataFrame is highly fragmented.  This is usually the result of calling `frame.insert` many times, which has poor performance.  Consider joining all columns at once using pd.concat(axis=1) instead. To get a de-fragmented frame, use `newframe = frame.copy()`\n",
      "  df[f\"{stock}\"] = close_list\n",
      "100%|██████████| 176/176 [00:40<00:00,  4.34it/s]\n",
      "/tmp/ipykernel_540/3020429731.py:13: PerformanceWarning: DataFrame is highly fragmented.  This is usually the result of calling `frame.insert` many times, which has poor performance.  Consider joining all columns at once using pd.concat(axis=1) instead. To get a de-fragmented frame, use `newframe = frame.copy()`\n",
      "  df[f\"{stock}\"] = close_list\n",
      "100%|██████████| 176/176 [00:32<00:00,  5.35it/s]\n",
      "/tmp/ipykernel_540/3020429731.py:13: PerformanceWarning: DataFrame is highly fragmented.  This is usually the result of calling `frame.insert` many times, which has poor performance.  Consider joining all columns at once using pd.concat(axis=1) instead. To get a de-fragmented frame, use `newframe = frame.copy()`\n",
      "  df[f\"{stock}\"] = close_list\n",
      "100%|██████████| 176/176 [00:37<00:00,  4.75it/s]\n",
      "/tmp/ipykernel_540/3020429731.py:13: PerformanceWarning: DataFrame is highly fragmented.  This is usually the result of calling `frame.insert` many times, which has poor performance.  Consider joining all columns at once using pd.concat(axis=1) instead. To get a de-fragmented frame, use `newframe = frame.copy()`\n",
      "  df[f\"{stock}\"] = close_list\n",
      "100%|██████████| 176/176 [00:32<00:00,  5.35it/s]\n",
      "/tmp/ipykernel_540/3020429731.py:13: PerformanceWarning: DataFrame is highly fragmented.  This is usually the result of calling `frame.insert` many times, which has poor performance.  Consider joining all columns at once using pd.concat(axis=1) instead. To get a de-fragmented frame, use `newframe = frame.copy()`\n",
      "  df[f\"{stock}\"] = close_list\n",
      "100%|██████████| 176/176 [00:33<00:00,  5.25it/s]\n",
      "/tmp/ipykernel_540/3020429731.py:13: PerformanceWarning: DataFrame is highly fragmented.  This is usually the result of calling `frame.insert` many times, which has poor performance.  Consider joining all columns at once using pd.concat(axis=1) instead. To get a de-fragmented frame, use `newframe = frame.copy()`\n",
      "  df[f\"{stock}\"] = close_list\n",
      "100%|██████████| 176/176 [00:32<00:00,  5.34it/s]\n",
      "/tmp/ipykernel_540/3020429731.py:13: PerformanceWarning: DataFrame is highly fragmented.  This is usually the result of calling `frame.insert` many times, which has poor performance.  Consider joining all columns at once using pd.concat(axis=1) instead. To get a de-fragmented frame, use `newframe = frame.copy()`\n",
      "  df[f\"{stock}\"] = close_list\n",
      "100%|██████████| 176/176 [00:34<00:00,  5.17it/s]\n",
      "/tmp/ipykernel_540/3020429731.py:13: PerformanceWarning: DataFrame is highly fragmented.  This is usually the result of calling `frame.insert` many times, which has poor performance.  Consider joining all columns at once using pd.concat(axis=1) instead. To get a de-fragmented frame, use `newframe = frame.copy()`\n",
      "  df[f\"{stock}\"] = close_list\n",
      "100%|██████████| 176/176 [00:33<00:00,  5.23it/s]\n",
      "/tmp/ipykernel_540/3020429731.py:13: PerformanceWarning: DataFrame is highly fragmented.  This is usually the result of calling `frame.insert` many times, which has poor performance.  Consider joining all columns at once using pd.concat(axis=1) instead. To get a de-fragmented frame, use `newframe = frame.copy()`\n",
      "  df[f\"{stock}\"] = close_list\n",
      "100%|██████████| 176/176 [00:39<00:00,  4.45it/s]\n",
      "/tmp/ipykernel_540/3020429731.py:13: PerformanceWarning: DataFrame is highly fragmented.  This is usually the result of calling `frame.insert` many times, which has poor performance.  Consider joining all columns at once using pd.concat(axis=1) instead. To get a de-fragmented frame, use `newframe = frame.copy()`\n",
      "  df[f\"{stock}\"] = close_list\n",
      "100%|██████████| 176/176 [00:40<00:00,  4.37it/s]\n",
      "/tmp/ipykernel_540/3020429731.py:13: PerformanceWarning: DataFrame is highly fragmented.  This is usually the result of calling `frame.insert` many times, which has poor performance.  Consider joining all columns at once using pd.concat(axis=1) instead. To get a de-fragmented frame, use `newframe = frame.copy()`\n",
      "  df[f\"{stock}\"] = close_list\n",
      "100%|██████████| 176/176 [00:32<00:00,  5.36it/s]\n",
      "/tmp/ipykernel_540/3020429731.py:13: PerformanceWarning: DataFrame is highly fragmented.  This is usually the result of calling `frame.insert` many times, which has poor performance.  Consider joining all columns at once using pd.concat(axis=1) instead. To get a de-fragmented frame, use `newframe = frame.copy()`\n",
      "  df[f\"{stock}\"] = close_list\n",
      "100%|██████████| 176/176 [00:34<00:00,  5.17it/s]\n",
      "/tmp/ipykernel_540/3020429731.py:13: PerformanceWarning: DataFrame is highly fragmented.  This is usually the result of calling `frame.insert` many times, which has poor performance.  Consider joining all columns at once using pd.concat(axis=1) instead. To get a de-fragmented frame, use `newframe = frame.copy()`\n",
      "  df[f\"{stock}\"] = close_list\n",
      "100%|██████████| 176/176 [00:33<00:00,  5.28it/s]\n",
      "/tmp/ipykernel_540/3020429731.py:13: PerformanceWarning: DataFrame is highly fragmented.  This is usually the result of calling `frame.insert` many times, which has poor performance.  Consider joining all columns at once using pd.concat(axis=1) instead. To get a de-fragmented frame, use `newframe = frame.copy()`\n",
      "  df[f\"{stock}\"] = close_list\n",
      "100%|██████████| 176/176 [00:34<00:00,  5.05it/s]\n",
      "/tmp/ipykernel_540/3020429731.py:13: PerformanceWarning: DataFrame is highly fragmented.  This is usually the result of calling `frame.insert` many times, which has poor performance.  Consider joining all columns at once using pd.concat(axis=1) instead. To get a de-fragmented frame, use `newframe = frame.copy()`\n",
      "  df[f\"{stock}\"] = close_list\n",
      "100%|██████████| 176/176 [00:34<00:00,  5.08it/s]\n",
      "/tmp/ipykernel_540/3020429731.py:13: PerformanceWarning: DataFrame is highly fragmented.  This is usually the result of calling `frame.insert` many times, which has poor performance.  Consider joining all columns at once using pd.concat(axis=1) instead. To get a de-fragmented frame, use `newframe = frame.copy()`\n",
      "  df[f\"{stock}\"] = close_list\n",
      "100%|██████████| 176/176 [00:33<00:00,  5.26it/s]\n",
      "/tmp/ipykernel_540/3020429731.py:13: PerformanceWarning: DataFrame is highly fragmented.  This is usually the result of calling `frame.insert` many times, which has poor performance.  Consider joining all columns at once using pd.concat(axis=1) instead. To get a de-fragmented frame, use `newframe = frame.copy()`\n",
      "  df[f\"{stock}\"] = close_list\n",
      "100%|██████████| 176/176 [00:42<00:00,  4.18it/s]\n",
      "/tmp/ipykernel_540/3020429731.py:13: PerformanceWarning: DataFrame is highly fragmented.  This is usually the result of calling `frame.insert` many times, which has poor performance.  Consider joining all columns at once using pd.concat(axis=1) instead. To get a de-fragmented frame, use `newframe = frame.copy()`\n",
      "  df[f\"{stock}\"] = close_list\n",
      "100%|██████████| 176/176 [00:35<00:00,  5.02it/s]\n",
      "/tmp/ipykernel_540/3020429731.py:13: PerformanceWarning: DataFrame is highly fragmented.  This is usually the result of calling `frame.insert` many times, which has poor performance.  Consider joining all columns at once using pd.concat(axis=1) instead. To get a de-fragmented frame, use `newframe = frame.copy()`\n",
      "  df[f\"{stock}\"] = close_list\n",
      "100%|██████████| 176/176 [00:35<00:00,  4.91it/s]\n",
      "/tmp/ipykernel_540/3020429731.py:13: PerformanceWarning: DataFrame is highly fragmented.  This is usually the result of calling `frame.insert` many times, which has poor performance.  Consider joining all columns at once using pd.concat(axis=1) instead. To get a de-fragmented frame, use `newframe = frame.copy()`\n",
      "  df[f\"{stock}\"] = close_list\n",
      "100%|██████████| 176/176 [00:32<00:00,  5.38it/s]\n",
      "/tmp/ipykernel_540/3020429731.py:13: PerformanceWarning: DataFrame is highly fragmented.  This is usually the result of calling `frame.insert` many times, which has poor performance.  Consider joining all columns at once using pd.concat(axis=1) instead. To get a de-fragmented frame, use `newframe = frame.copy()`\n",
      "  df[f\"{stock}\"] = close_list\n",
      "100%|██████████| 176/176 [00:36<00:00,  4.88it/s]\n",
      "/tmp/ipykernel_540/3020429731.py:13: PerformanceWarning: DataFrame is highly fragmented.  This is usually the result of calling `frame.insert` many times, which has poor performance.  Consider joining all columns at once using pd.concat(axis=1) instead. To get a de-fragmented frame, use `newframe = frame.copy()`\n",
      "  df[f\"{stock}\"] = close_list\n",
      "100%|██████████| 176/176 [00:35<00:00,  4.90it/s]\n",
      "/tmp/ipykernel_540/3020429731.py:13: PerformanceWarning: DataFrame is highly fragmented.  This is usually the result of calling `frame.insert` many times, which has poor performance.  Consider joining all columns at once using pd.concat(axis=1) instead. To get a de-fragmented frame, use `newframe = frame.copy()`\n",
      "  df[f\"{stock}\"] = close_list\n",
      "100%|██████████| 176/176 [00:33<00:00,  5.20it/s]\n",
      "/tmp/ipykernel_540/3020429731.py:13: PerformanceWarning: DataFrame is highly fragmented.  This is usually the result of calling `frame.insert` many times, which has poor performance.  Consider joining all columns at once using pd.concat(axis=1) instead. To get a de-fragmented frame, use `newframe = frame.copy()`\n",
      "  df[f\"{stock}\"] = close_list\n",
      "100%|██████████| 176/176 [00:34<00:00,  5.15it/s]\n",
      "/tmp/ipykernel_540/3020429731.py:13: PerformanceWarning: DataFrame is highly fragmented.  This is usually the result of calling `frame.insert` many times, which has poor performance.  Consider joining all columns at once using pd.concat(axis=1) instead. To get a de-fragmented frame, use `newframe = frame.copy()`\n",
      "  df[f\"{stock}\"] = close_list\n",
      "100%|██████████| 176/176 [00:34<00:00,  5.17it/s]\n",
      "/tmp/ipykernel_540/3020429731.py:13: PerformanceWarning: DataFrame is highly fragmented.  This is usually the result of calling `frame.insert` many times, which has poor performance.  Consider joining all columns at once using pd.concat(axis=1) instead. To get a de-fragmented frame, use `newframe = frame.copy()`\n",
      "  df[f\"{stock}\"] = close_list\n",
      "100%|██████████| 176/176 [00:33<00:00,  5.24it/s]\n",
      "/tmp/ipykernel_540/3020429731.py:13: PerformanceWarning: DataFrame is highly fragmented.  This is usually the result of calling `frame.insert` many times, which has poor performance.  Consider joining all columns at once using pd.concat(axis=1) instead. To get a de-fragmented frame, use `newframe = frame.copy()`\n",
      "  df[f\"{stock}\"] = close_list\n",
      "100%|██████████| 176/176 [00:32<00:00,  5.34it/s]\n",
      "/tmp/ipykernel_540/3020429731.py:13: PerformanceWarning: DataFrame is highly fragmented.  This is usually the result of calling `frame.insert` many times, which has poor performance.  Consider joining all columns at once using pd.concat(axis=1) instead. To get a de-fragmented frame, use `newframe = frame.copy()`\n",
      "  df[f\"{stock}\"] = close_list\n",
      "100%|██████████| 176/176 [00:33<00:00,  5.30it/s]\n",
      "/tmp/ipykernel_540/3020429731.py:13: PerformanceWarning: DataFrame is highly fragmented.  This is usually the result of calling `frame.insert` many times, which has poor performance.  Consider joining all columns at once using pd.concat(axis=1) instead. To get a de-fragmented frame, use `newframe = frame.copy()`\n",
      "  df[f\"{stock}\"] = close_list\n",
      "100%|██████████| 176/176 [00:33<00:00,  5.26it/s]\n",
      "/tmp/ipykernel_540/3020429731.py:13: PerformanceWarning: DataFrame is highly fragmented.  This is usually the result of calling `frame.insert` many times, which has poor performance.  Consider joining all columns at once using pd.concat(axis=1) instead. To get a de-fragmented frame, use `newframe = frame.copy()`\n",
      "  df[f\"{stock}\"] = close_list\n",
      "100%|██████████| 176/176 [00:33<00:00,  5.22it/s]\n",
      "/tmp/ipykernel_540/3020429731.py:13: PerformanceWarning: DataFrame is highly fragmented.  This is usually the result of calling `frame.insert` many times, which has poor performance.  Consider joining all columns at once using pd.concat(axis=1) instead. To get a de-fragmented frame, use `newframe = frame.copy()`\n",
      "  df[f\"{stock}\"] = close_list\n",
      "100%|██████████| 176/176 [00:36<00:00,  4.81it/s]\n",
      "/tmp/ipykernel_540/3020429731.py:13: PerformanceWarning: DataFrame is highly fragmented.  This is usually the result of calling `frame.insert` many times, which has poor performance.  Consider joining all columns at once using pd.concat(axis=1) instead. To get a de-fragmented frame, use `newframe = frame.copy()`\n",
      "  df[f\"{stock}\"] = close_list\n",
      "100%|██████████| 176/176 [00:34<00:00,  5.15it/s]\n",
      "/tmp/ipykernel_540/3020429731.py:13: PerformanceWarning: DataFrame is highly fragmented.  This is usually the result of calling `frame.insert` many times, which has poor performance.  Consider joining all columns at once using pd.concat(axis=1) instead. To get a de-fragmented frame, use `newframe = frame.copy()`\n",
      "  df[f\"{stock}\"] = close_list\n",
      "100%|██████████| 176/176 [00:33<00:00,  5.26it/s]\n",
      "/tmp/ipykernel_540/3020429731.py:13: PerformanceWarning: DataFrame is highly fragmented.  This is usually the result of calling `frame.insert` many times, which has poor performance.  Consider joining all columns at once using pd.concat(axis=1) instead. To get a de-fragmented frame, use `newframe = frame.copy()`\n",
      "  df[f\"{stock}\"] = close_list\n",
      "100%|██████████| 176/176 [00:35<00:00,  4.94it/s]\n",
      "/tmp/ipykernel_540/3020429731.py:13: PerformanceWarning: DataFrame is highly fragmented.  This is usually the result of calling `frame.insert` many times, which has poor performance.  Consider joining all columns at once using pd.concat(axis=1) instead. To get a de-fragmented frame, use `newframe = frame.copy()`\n",
      "  df[f\"{stock}\"] = close_list\n",
      "100%|██████████| 176/176 [00:33<00:00,  5.22it/s]\n",
      "/tmp/ipykernel_540/3020429731.py:13: PerformanceWarning: DataFrame is highly fragmented.  This is usually the result of calling `frame.insert` many times, which has poor performance.  Consider joining all columns at once using pd.concat(axis=1) instead. To get a de-fragmented frame, use `newframe = frame.copy()`\n",
      "  df[f\"{stock}\"] = close_list\n",
      "100%|██████████| 176/176 [00:37<00:00,  4.72it/s]\n",
      "/tmp/ipykernel_540/3020429731.py:13: PerformanceWarning: DataFrame is highly fragmented.  This is usually the result of calling `frame.insert` many times, which has poor performance.  Consider joining all columns at once using pd.concat(axis=1) instead. To get a de-fragmented frame, use `newframe = frame.copy()`\n",
      "  df[f\"{stock}\"] = close_list\n",
      "100%|██████████| 176/176 [00:33<00:00,  5.25it/s]\n",
      "/tmp/ipykernel_540/3020429731.py:13: PerformanceWarning: DataFrame is highly fragmented.  This is usually the result of calling `frame.insert` many times, which has poor performance.  Consider joining all columns at once using pd.concat(axis=1) instead. To get a de-fragmented frame, use `newframe = frame.copy()`\n",
      "  df[f\"{stock}\"] = close_list\n",
      "100%|██████████| 176/176 [00:33<00:00,  5.24it/s]\n",
      "/tmp/ipykernel_540/3020429731.py:13: PerformanceWarning: DataFrame is highly fragmented.  This is usually the result of calling `frame.insert` many times, which has poor performance.  Consider joining all columns at once using pd.concat(axis=1) instead. To get a de-fragmented frame, use `newframe = frame.copy()`\n",
      "  df[f\"{stock}\"] = close_list\n",
      "100%|██████████| 176/176 [00:34<00:00,  5.13it/s]\n",
      "/tmp/ipykernel_540/3020429731.py:13: PerformanceWarning: DataFrame is highly fragmented.  This is usually the result of calling `frame.insert` many times, which has poor performance.  Consider joining all columns at once using pd.concat(axis=1) instead. To get a de-fragmented frame, use `newframe = frame.copy()`\n",
      "  df[f\"{stock}\"] = close_list\n",
      "100%|██████████| 176/176 [00:35<00:00,  4.96it/s]\n",
      "/tmp/ipykernel_540/3020429731.py:13: PerformanceWarning: DataFrame is highly fragmented.  This is usually the result of calling `frame.insert` many times, which has poor performance.  Consider joining all columns at once using pd.concat(axis=1) instead. To get a de-fragmented frame, use `newframe = frame.copy()`\n",
      "  df[f\"{stock}\"] = close_list\n",
      "100%|██████████| 176/176 [00:34<00:00,  5.13it/s]\n",
      "/tmp/ipykernel_540/3020429731.py:13: PerformanceWarning: DataFrame is highly fragmented.  This is usually the result of calling `frame.insert` many times, which has poor performance.  Consider joining all columns at once using pd.concat(axis=1) instead. To get a de-fragmented frame, use `newframe = frame.copy()`\n",
      "  df[f\"{stock}\"] = close_list\n",
      "100%|██████████| 176/176 [00:34<00:00,  5.16it/s]\n",
      "/tmp/ipykernel_540/3020429731.py:13: PerformanceWarning: DataFrame is highly fragmented.  This is usually the result of calling `frame.insert` many times, which has poor performance.  Consider joining all columns at once using pd.concat(axis=1) instead. To get a de-fragmented frame, use `newframe = frame.copy()`\n",
      "  df[f\"{stock}\"] = close_list\n",
      "100%|██████████| 176/176 [00:32<00:00,  5.35it/s]\n",
      "/tmp/ipykernel_540/3020429731.py:13: PerformanceWarning: DataFrame is highly fragmented.  This is usually the result of calling `frame.insert` many times, which has poor performance.  Consider joining all columns at once using pd.concat(axis=1) instead. To get a de-fragmented frame, use `newframe = frame.copy()`\n",
      "  df[f\"{stock}\"] = close_list\n",
      "100%|██████████| 176/176 [00:32<00:00,  5.34it/s]\n",
      "/tmp/ipykernel_540/3020429731.py:13: PerformanceWarning: DataFrame is highly fragmented.  This is usually the result of calling `frame.insert` many times, which has poor performance.  Consider joining all columns at once using pd.concat(axis=1) instead. To get a de-fragmented frame, use `newframe = frame.copy()`\n",
      "  df[f\"{stock}\"] = close_list\n",
      "100%|██████████| 176/176 [00:32<00:00,  5.40it/s]\n",
      "/tmp/ipykernel_540/3020429731.py:13: PerformanceWarning: DataFrame is highly fragmented.  This is usually the result of calling `frame.insert` many times, which has poor performance.  Consider joining all columns at once using pd.concat(axis=1) instead. To get a de-fragmented frame, use `newframe = frame.copy()`\n",
      "  df[f\"{stock}\"] = close_list\n",
      "100%|██████████| 176/176 [00:33<00:00,  5.27it/s]\n",
      "/tmp/ipykernel_540/3020429731.py:13: PerformanceWarning: DataFrame is highly fragmented.  This is usually the result of calling `frame.insert` many times, which has poor performance.  Consider joining all columns at once using pd.concat(axis=1) instead. To get a de-fragmented frame, use `newframe = frame.copy()`\n",
      "  df[f\"{stock}\"] = close_list\n",
      "100%|██████████| 176/176 [00:33<00:00,  5.31it/s]\n",
      "/tmp/ipykernel_540/3020429731.py:13: PerformanceWarning: DataFrame is highly fragmented.  This is usually the result of calling `frame.insert` many times, which has poor performance.  Consider joining all columns at once using pd.concat(axis=1) instead. To get a de-fragmented frame, use `newframe = frame.copy()`\n",
      "  df[f\"{stock}\"] = close_list\n",
      "100%|██████████| 176/176 [00:40<00:00,  4.33it/s]\n",
      "/tmp/ipykernel_540/3020429731.py:13: PerformanceWarning: DataFrame is highly fragmented.  This is usually the result of calling `frame.insert` many times, which has poor performance.  Consider joining all columns at once using pd.concat(axis=1) instead. To get a de-fragmented frame, use `newframe = frame.copy()`\n",
      "  df[f\"{stock}\"] = close_list\n",
      "100%|██████████| 176/176 [00:45<00:00,  3.90it/s]\n",
      "/tmp/ipykernel_540/3020429731.py:13: PerformanceWarning: DataFrame is highly fragmented.  This is usually the result of calling `frame.insert` many times, which has poor performance.  Consider joining all columns at once using pd.concat(axis=1) instead. To get a de-fragmented frame, use `newframe = frame.copy()`\n",
      "  df[f\"{stock}\"] = close_list\n",
      "100%|██████████| 176/176 [00:33<00:00,  5.22it/s]\n",
      "/tmp/ipykernel_540/3020429731.py:13: PerformanceWarning: DataFrame is highly fragmented.  This is usually the result of calling `frame.insert` many times, which has poor performance.  Consider joining all columns at once using pd.concat(axis=1) instead. To get a de-fragmented frame, use `newframe = frame.copy()`\n",
      "  df[f\"{stock}\"] = close_list\n",
      "100%|██████████| 176/176 [00:33<00:00,  5.25it/s]\n",
      "/tmp/ipykernel_540/3020429731.py:13: PerformanceWarning: DataFrame is highly fragmented.  This is usually the result of calling `frame.insert` many times, which has poor performance.  Consider joining all columns at once using pd.concat(axis=1) instead. To get a de-fragmented frame, use `newframe = frame.copy()`\n",
      "  df[f\"{stock}\"] = close_list\n",
      "100%|██████████| 176/176 [00:34<00:00,  5.11it/s]\n",
      "/tmp/ipykernel_540/3020429731.py:13: PerformanceWarning: DataFrame is highly fragmented.  This is usually the result of calling `frame.insert` many times, which has poor performance.  Consider joining all columns at once using pd.concat(axis=1) instead. To get a de-fragmented frame, use `newframe = frame.copy()`\n",
      "  df[f\"{stock}\"] = close_list\n",
      "100%|██████████| 176/176 [00:35<00:00,  5.02it/s]\n",
      "/tmp/ipykernel_540/3020429731.py:13: PerformanceWarning: DataFrame is highly fragmented.  This is usually the result of calling `frame.insert` many times, which has poor performance.  Consider joining all columns at once using pd.concat(axis=1) instead. To get a de-fragmented frame, use `newframe = frame.copy()`\n",
      "  df[f\"{stock}\"] = close_list\n",
      "100%|██████████| 176/176 [00:37<00:00,  4.72it/s]\n",
      "/tmp/ipykernel_540/3020429731.py:13: PerformanceWarning: DataFrame is highly fragmented.  This is usually the result of calling `frame.insert` many times, which has poor performance.  Consider joining all columns at once using pd.concat(axis=1) instead. To get a de-fragmented frame, use `newframe = frame.copy()`\n",
      "  df[f\"{stock}\"] = close_list\n",
      "100%|██████████| 176/176 [00:37<00:00,  4.66it/s]\n",
      "/tmp/ipykernel_540/3020429731.py:13: PerformanceWarning: DataFrame is highly fragmented.  This is usually the result of calling `frame.insert` many times, which has poor performance.  Consider joining all columns at once using pd.concat(axis=1) instead. To get a de-fragmented frame, use `newframe = frame.copy()`\n",
      "  df[f\"{stock}\"] = close_list\n",
      "100%|██████████| 176/176 [01:22<00:00,  2.14it/s]\n",
      "/tmp/ipykernel_540/3020429731.py:13: PerformanceWarning: DataFrame is highly fragmented.  This is usually the result of calling `frame.insert` many times, which has poor performance.  Consider joining all columns at once using pd.concat(axis=1) instead. To get a de-fragmented frame, use `newframe = frame.copy()`\n",
      "  df[f\"{stock}\"] = close_list\n",
      "100%|██████████| 176/176 [00:52<00:00,  3.37it/s]\n",
      "/tmp/ipykernel_540/3020429731.py:13: PerformanceWarning: DataFrame is highly fragmented.  This is usually the result of calling `frame.insert` many times, which has poor performance.  Consider joining all columns at once using pd.concat(axis=1) instead. To get a de-fragmented frame, use `newframe = frame.copy()`\n",
      "  df[f\"{stock}\"] = close_list\n",
      "100%|██████████| 176/176 [01:00<00:00,  2.90it/s]\n",
      "/tmp/ipykernel_540/3020429731.py:13: PerformanceWarning: DataFrame is highly fragmented.  This is usually the result of calling `frame.insert` many times, which has poor performance.  Consider joining all columns at once using pd.concat(axis=1) instead. To get a de-fragmented frame, use `newframe = frame.copy()`\n",
      "  df[f\"{stock}\"] = close_list\n",
      "100%|██████████| 176/176 [00:53<00:00,  3.29it/s]\n",
      "/tmp/ipykernel_540/3020429731.py:13: PerformanceWarning: DataFrame is highly fragmented.  This is usually the result of calling `frame.insert` many times, which has poor performance.  Consider joining all columns at once using pd.concat(axis=1) instead. To get a de-fragmented frame, use `newframe = frame.copy()`\n",
      "  df[f\"{stock}\"] = close_list\n",
      "100%|██████████| 176/176 [01:04<00:00,  2.72it/s]\n",
      "/tmp/ipykernel_540/3020429731.py:13: PerformanceWarning: DataFrame is highly fragmented.  This is usually the result of calling `frame.insert` many times, which has poor performance.  Consider joining all columns at once using pd.concat(axis=1) instead. To get a de-fragmented frame, use `newframe = frame.copy()`\n",
      "  df[f\"{stock}\"] = close_list\n",
      "100%|██████████| 176/176 [01:09<00:00,  2.53it/s]\n",
      "/tmp/ipykernel_540/3020429731.py:13: PerformanceWarning: DataFrame is highly fragmented.  This is usually the result of calling `frame.insert` many times, which has poor performance.  Consider joining all columns at once using pd.concat(axis=1) instead. To get a de-fragmented frame, use `newframe = frame.copy()`\n",
      "  df[f\"{stock}\"] = close_list\n",
      "100%|██████████| 176/176 [01:13<00:00,  2.38it/s]\n",
      "/tmp/ipykernel_540/3020429731.py:13: PerformanceWarning: DataFrame is highly fragmented.  This is usually the result of calling `frame.insert` many times, which has poor performance.  Consider joining all columns at once using pd.concat(axis=1) instead. To get a de-fragmented frame, use `newframe = frame.copy()`\n",
      "  df[f\"{stock}\"] = close_list\n",
      "100%|██████████| 176/176 [01:01<00:00,  2.88it/s]\n",
      "/tmp/ipykernel_540/3020429731.py:13: PerformanceWarning: DataFrame is highly fragmented.  This is usually the result of calling `frame.insert` many times, which has poor performance.  Consider joining all columns at once using pd.concat(axis=1) instead. To get a de-fragmented frame, use `newframe = frame.copy()`\n",
      "  df[f\"{stock}\"] = close_list\n",
      "100%|██████████| 176/176 [00:58<00:00,  3.00it/s]\n",
      "/tmp/ipykernel_540/3020429731.py:13: PerformanceWarning: DataFrame is highly fragmented.  This is usually the result of calling `frame.insert` many times, which has poor performance.  Consider joining all columns at once using pd.concat(axis=1) instead. To get a de-fragmented frame, use `newframe = frame.copy()`\n",
      "  df[f\"{stock}\"] = close_list\n",
      "100%|██████████| 176/176 [01:00<00:00,  2.91it/s]\n",
      "/tmp/ipykernel_540/3020429731.py:13: PerformanceWarning: DataFrame is highly fragmented.  This is usually the result of calling `frame.insert` many times, which has poor performance.  Consider joining all columns at once using pd.concat(axis=1) instead. To get a de-fragmented frame, use `newframe = frame.copy()`\n",
      "  df[f\"{stock}\"] = close_list\n",
      "100%|██████████| 176/176 [00:41<00:00,  4.21it/s]\n",
      "/tmp/ipykernel_540/3020429731.py:13: PerformanceWarning: DataFrame is highly fragmented.  This is usually the result of calling `frame.insert` many times, which has poor performance.  Consider joining all columns at once using pd.concat(axis=1) instead. To get a de-fragmented frame, use `newframe = frame.copy()`\n",
      "  df[f\"{stock}\"] = close_list\n",
      "100%|██████████| 176/176 [00:33<00:00,  5.28it/s]\n",
      "/tmp/ipykernel_540/3020429731.py:13: PerformanceWarning: DataFrame is highly fragmented.  This is usually the result of calling `frame.insert` many times, which has poor performance.  Consider joining all columns at once using pd.concat(axis=1) instead. To get a de-fragmented frame, use `newframe = frame.copy()`\n",
      "  df[f\"{stock}\"] = close_list\n",
      "100%|██████████| 176/176 [00:35<00:00,  4.97it/s]\n",
      "/tmp/ipykernel_540/3020429731.py:13: PerformanceWarning: DataFrame is highly fragmented.  This is usually the result of calling `frame.insert` many times, which has poor performance.  Consider joining all columns at once using pd.concat(axis=1) instead. To get a de-fragmented frame, use `newframe = frame.copy()`\n",
      "  df[f\"{stock}\"] = close_list\n",
      "100%|██████████| 176/176 [00:38<00:00,  4.63it/s]\n",
      "/tmp/ipykernel_540/3020429731.py:13: PerformanceWarning: DataFrame is highly fragmented.  This is usually the result of calling `frame.insert` many times, which has poor performance.  Consider joining all columns at once using pd.concat(axis=1) instead. To get a de-fragmented frame, use `newframe = frame.copy()`\n",
      "  df[f\"{stock}\"] = close_list\n",
      "100%|██████████| 176/176 [00:36<00:00,  4.81it/s]\n",
      "/tmp/ipykernel_540/3020429731.py:13: PerformanceWarning: DataFrame is highly fragmented.  This is usually the result of calling `frame.insert` many times, which has poor performance.  Consider joining all columns at once using pd.concat(axis=1) instead. To get a de-fragmented frame, use `newframe = frame.copy()`\n",
      "  df[f\"{stock}\"] = close_list\n",
      "100%|██████████| 176/176 [00:33<00:00,  5.29it/s]\n",
      "/tmp/ipykernel_540/3020429731.py:13: PerformanceWarning: DataFrame is highly fragmented.  This is usually the result of calling `frame.insert` many times, which has poor performance.  Consider joining all columns at once using pd.concat(axis=1) instead. To get a de-fragmented frame, use `newframe = frame.copy()`\n",
      "  df[f\"{stock}\"] = close_list\n",
      "100%|██████████| 176/176 [00:34<00:00,  5.12it/s]\n",
      "/tmp/ipykernel_540/3020429731.py:13: PerformanceWarning: DataFrame is highly fragmented.  This is usually the result of calling `frame.insert` many times, which has poor performance.  Consider joining all columns at once using pd.concat(axis=1) instead. To get a de-fragmented frame, use `newframe = frame.copy()`\n",
      "  df[f\"{stock}\"] = close_list\n"
     ]
    }
   ],
   "source": [
    "for stock in stock_list:\n",
    "    close_list = np.array([])\n",
    "    for month in tqdm(month_list):\n",
    "        close = get_stock_close(month, stock)\n",
    "        time.sleep(0.15)\n",
    "        if type(close) == bool and close == False:\n",
    "            continue\n",
    "        close_list = np.append(close_list, close)\n",
    "    if len(close_list) < 3700:\n",
    "        close_list = np.append(\n",
    "            close_list, np.array([np.nan] * (3700 - len(close_list)))\n",
    "        )\n",
    "    df[f\"{stock}\"] = close_list"
   ]
  },
  {
   "cell_type": "code",
   "execution_count": 26,
   "metadata": {},
   "outputs": [],
   "source": [
    "for stock_no in df.columns:\n",
    "    df[stock_no] = (\n",
    "        df[stock_no]\n",
    "        .replace(\"--\", np.nan, regex=True)\n",
    "        .replace(\",\", \"\", regex=True)\n",
    "        .astype(float)\n",
    "    )"
   ]
  },
  {
   "cell_type": "code",
   "execution_count": 63,
   "metadata": {},
   "outputs": [],
   "source": [
    "df[:3587].to_csv(\"stock_price_history.csv\",index=False)"
   ]
  },
  {
   "cell_type": "code",
   "execution_count": 3,
   "metadata": {},
   "outputs": [],
   "source": [
    "# 1個月\n",
    "def get_index_volume(date):\n",
    "    url = f\"https://www.twse.com.tw/exchangeReport/FMTQIK?response=json&date={date}\"\n",
    "    data = requests.get(url).json()\n",
    "    df = pd.DataFrame.from_dict(data[\"data\"])\n",
    "    df.columns = data['fields']\n",
    "    return df\n",
    "def get_index_K(date):\n",
    "    url = f\"https://www.twse.com.tw/indicesReport/MI_5MINS_HIST?response=json&date={date}\"\n",
    "    data = requests.get(url).json()\n",
    "    df = pd.DataFrame.from_dict(data[\"data\"])\n",
    "    df.columns = data['fields']\n",
    "    return df"
   ]
  },
  {
   "cell_type": "code",
   "execution_count": 4,
   "metadata": {},
   "outputs": [],
   "source": [
    "def date_helper(x):\n",
    "    x = str(int(x[:3])+1911)+x[3:]\n",
    "    return x.replace(\"/\", \"-\")"
   ]
  },
  {
   "cell_type": "code",
   "execution_count": 10,
   "metadata": {},
   "outputs": [],
   "source": [
    "month_list = pd.date_range('2010-01-01','2024-08-01', freq='MS').strftime(\"%Y%m%d\").tolist()    \n",
    "# K = pd.DataFrame(columns=get_index_K(month_list[0]).columns)\n",
    "# volume = pd.DataFrame(columns=get_index_volume(month_list[0]).columns)"
   ]
  },
  {
   "cell_type": "code",
   "execution_count": 6,
   "metadata": {},
   "outputs": [
    {
     "name": "stderr",
     "output_type": "stream",
     "text": [
      "100%|██████████| 176/176 [01:12<00:00,  2.43it/s]\n"
     ]
    }
   ],
   "source": [
    "for month in tqdm(month_list):\n",
    "    K = pd.concat([K,get_index_K(month)], ignore_index=True)\n",
    "    time.sleep(0.3)"
   ]
  },
  {
   "cell_type": "code",
   "execution_count": 7,
   "metadata": {},
   "outputs": [
    {
     "name": "stderr",
     "output_type": "stream",
     "text": [
      "100%|██████████| 176/176 [01:01<00:00,  2.85it/s]\n"
     ]
    }
   ],
   "source": [
    "for month in tqdm(month_list):\n",
    "    volume = pd.concat([volume,get_index_volume(month)], ignore_index=True)\n",
    "    time.sleep(0.3)"
   ]
  },
  {
   "cell_type": "code",
   "execution_count": 8,
   "metadata": {},
   "outputs": [],
   "source": [
    "volume[\"成交股數\"] = volume[\"成交股數\"].replace(',','', regex=True).astype(int)\n",
    "volume[\"成交金額\"] = volume[\"成交金額\"].replace(',','', regex=True).astype(int)\n",
    "volume[\"成交筆數\"] = volume[\"成交筆數\"].replace(',','', regex=True).astype(int)\n",
    "volume[\"發行量加權股價指數\"] = volume[\"發行量加權股價指數\"].replace(',','', regex=True).astype(float)\n",
    "volume[\"漲跌點數\"] = volume[\"漲跌點數\"].replace(',','', regex=True).astype(float)\n",
    "volume[\"日期\"] = volume[\"日期\"].apply(date_helper)"
   ]
  },
  {
   "cell_type": "code",
   "execution_count": 9,
   "metadata": {},
   "outputs": [],
   "source": [
    "volume.to_csv(\"大盤成交.csv\",index=False)"
   ]
  },
  {
   "cell_type": "code",
   "execution_count": 10,
   "metadata": {},
   "outputs": [],
   "source": [
    "K[\"開盤指數\"] = K[\"開盤指數\"].replace(',','', regex=True).astype(float)\n",
    "K[\"最高指數\"] = K[\"最高指數\"].replace(',','', regex=True).astype(float)\n",
    "K[\"最低指數\"] = K[\"最低指數\"].replace(',','', regex=True).astype(float)\n",
    "K[\"收盤指數\"] = K[\"收盤指數\"].replace(',','', regex=True).astype(float)\n",
    "K[\"日期\"] = K[\"日期\"].apply(date_helper)"
   ]
  },
  {
   "cell_type": "code",
   "execution_count": 11,
   "metadata": {},
   "outputs": [],
   "source": [
    "K.to_csv(\"大盤K棒.csv\",index=False)"
   ]
  },
  {
   "cell_type": "code",
   "execution_count": 12,
   "metadata": {},
   "outputs": [],
   "source": [
    "K = pd.read_csv(\"大盤K棒.csv\")\n",
    "volume = pd.read_csv(\"大盤成交.csv\")\n",
    "corporation = pd.read_csv(\"整體市場三大法人買賣表.csv\")\n",
    "market = pd.read_csv(\"整體市場融資融劵表.csv\")"
   ]
  },
  {
   "cell_type": "code",
   "execution_count": 13,
   "metadata": {},
   "outputs": [
    {
     "data": {
      "text/html": [
       "<div>\n",
       "<style scoped>\n",
       "    .dataframe tbody tr th:only-of-type {\n",
       "        vertical-align: middle;\n",
       "    }\n",
       "\n",
       "    .dataframe tbody tr th {\n",
       "        vertical-align: top;\n",
       "    }\n",
       "\n",
       "    .dataframe thead th {\n",
       "        text-align: right;\n",
       "    }\n",
       "</style>\n",
       "<table border=\"1\" class=\"dataframe\">\n",
       "  <thead>\n",
       "    <tr style=\"text-align: right;\">\n",
       "      <th></th>\n",
       "      <th>date</th>\n",
       "      <th>open</th>\n",
       "      <th>high</th>\n",
       "      <th>low</th>\n",
       "      <th>close</th>\n",
       "      <th>volume_stockNum</th>\n",
       "      <th>volume_price</th>\n",
       "      <th>volume_num</th>\n",
       "    </tr>\n",
       "  </thead>\n",
       "  <tbody>\n",
       "    <tr>\n",
       "      <th>0</th>\n",
       "      <td>2010-01-04</td>\n",
       "      <td>8222.42</td>\n",
       "      <td>8240.45</td>\n",
       "      <td>8143.45</td>\n",
       "      <td>8207.85</td>\n",
       "      <td>6465473557</td>\n",
       "      <td>171654446230</td>\n",
       "      <td>1500109</td>\n",
       "    </tr>\n",
       "    <tr>\n",
       "      <th>1</th>\n",
       "      <td>2010-01-05</td>\n",
       "      <td>8277.71</td>\n",
       "      <td>8283.64</td>\n",
       "      <td>8162.54</td>\n",
       "      <td>8211.40</td>\n",
       "      <td>6795431855</td>\n",
       "      <td>197446584919</td>\n",
       "      <td>1613717</td>\n",
       "    </tr>\n",
       "    <tr>\n",
       "      <th>2</th>\n",
       "      <td>2010-01-06</td>\n",
       "      <td>8237.10</td>\n",
       "      <td>8327.87</td>\n",
       "      <td>8216.92</td>\n",
       "      <td>8327.62</td>\n",
       "      <td>6462699499</td>\n",
       "      <td>188531863020</td>\n",
       "      <td>1514442</td>\n",
       "    </tr>\n",
       "    <tr>\n",
       "      <th>3</th>\n",
       "      <td>2010-01-07</td>\n",
       "      <td>8344.56</td>\n",
       "      <td>8369.55</td>\n",
       "      <td>8233.59</td>\n",
       "      <td>8237.42</td>\n",
       "      <td>7183703184</td>\n",
       "      <td>203297890690</td>\n",
       "      <td>1690439</td>\n",
       "    </tr>\n",
       "    <tr>\n",
       "      <th>4</th>\n",
       "      <td>2010-01-08</td>\n",
       "      <td>8266.87</td>\n",
       "      <td>8290.66</td>\n",
       "      <td>8178.93</td>\n",
       "      <td>8280.90</td>\n",
       "      <td>5837432488</td>\n",
       "      <td>161862787984</td>\n",
       "      <td>1382306</td>\n",
       "    </tr>\n",
       "  </tbody>\n",
       "</table>\n",
       "</div>"
      ],
      "text/plain": [
       "         date     open     high      low    close  volume_stockNum  \\\n",
       "0  2010-01-04  8222.42  8240.45  8143.45  8207.85       6465473557   \n",
       "1  2010-01-05  8277.71  8283.64  8162.54  8211.40       6795431855   \n",
       "2  2010-01-06  8237.10  8327.87  8216.92  8327.62       6462699499   \n",
       "3  2010-01-07  8344.56  8369.55  8233.59  8237.42       7183703184   \n",
       "4  2010-01-08  8266.87  8290.66  8178.93  8280.90       5837432488   \n",
       "\n",
       "   volume_price  volume_num  \n",
       "0  171654446230     1500109  \n",
       "1  197446584919     1613717  \n",
       "2  188531863020     1514442  \n",
       "3  203297890690     1690439  \n",
       "4  161862787984     1382306  "
      ]
     },
     "execution_count": 13,
     "metadata": {},
     "output_type": "execute_result"
    }
   ],
   "source": [
    "index = pd.DataFrame()\n",
    "index[\"date\"] = K[\"日期\"]\n",
    "index[\"open\"] = K[\"開盤指數\"]\n",
    "index[\"high\"] = K[\"最高指數\"]\n",
    "index[\"low\"] = K[\"最低指數\"]\n",
    "index[\"close\"] = K[\"收盤指數\"]\n",
    "index[\"volume_stockNum\"] = volume[\"成交股數\"]\n",
    "index[\"volume_price\"] = volume[\"成交金額\"]\n",
    "index[\"volume_num\"] = volume[\"成交筆數\"]\n",
    "index.head()"
   ]
  },
  {
   "cell_type": "code",
   "execution_count": 14,
   "metadata": {},
   "outputs": [],
   "source": [
    "def market_handler():\n",
    "    market_type = [\"MarginPurchase\",\"ShortSale\",\"MarginPurchaseMoney\"]\n",
    "    market_data = pd.DataFrame()\n",
    "    market_data[\"date\"] = market[market[\"種類\"] == market_type[0]][\"日期\"].values\n",
    "    for i in market_type:\n",
    "        market_data[f\"{i}_buy\"] = market[market[\"種類\"] == i][\"買進\"].values\n",
    "        market_data[f\"{i}_sell\"] = market[market[\"種類\"] == i][\"賣出\"].values\n",
    "        market_data[f\"{i}_val\"] = market[market[\"種類\"] == i][\"現金/券償還\"].values\n",
    "    return market_data"
   ]
  },
  {
   "cell_type": "code",
   "execution_count": 15,
   "metadata": {},
   "outputs": [],
   "source": [
    "def corporation_handler():\n",
    "    corporation_type = [\"Foreign_Investor\",\"Investment_Trust\"]\n",
    "    corporation_data = pd.DataFrame()\n",
    "    corporation_data[\"date\"] = corporation[corporation[\"種類\"] == corporation_type[0]][\"日期\"].values\n",
    "    for i in corporation_type:\n",
    "        corporation_data[f\"{i}_buy\"] = corporation[corporation[\"種類\"] == i][\"買進\"].values\n",
    "        corporation_data[f\"{i}_sell\"] = corporation[corporation[\"種類\"] == i][\"賣出\"].values\n",
    "    return corporation_data"
   ]
  },
  {
   "cell_type": "code",
   "execution_count": 16,
   "metadata": {},
   "outputs": [],
   "source": [
    "corporation_data = corporation_handler()\n",
    "market_data = market_handler()\n",
    "data = pd.concat(\n",
    "    [index, corporation_data.drop(columns=\"date\"), market_data.drop(columns=\"date\")],\n",
    "    axis=1,\n",
    ")"
   ]
  },
  {
   "cell_type": "code",
   "execution_count": 17,
   "metadata": {},
   "outputs": [],
   "source": [
    "data.to_csv(\"data.csv\",index=False)"
   ]
  }
 ],
 "metadata": {
  "kernelspec": {
   "display_name": "venv",
   "language": "python",
   "name": "python3"
  },
  "language_info": {
   "codemirror_mode": {
    "name": "ipython",
    "version": 3
   },
   "file_extension": ".py",
   "mimetype": "text/x-python",
   "name": "python",
   "nbconvert_exporter": "python",
   "pygments_lexer": "ipython3",
   "version": "3.8.18"
  }
 },
 "nbformat": 4,
 "nbformat_minor": 2
}
